{
 "cells": [
  {
   "cell_type": "markdown",
   "metadata": {},
   "source": [
    "### Quinto ejercicio\n",
    "\n",
    "Crear una función que separe los datos en train-validation-test 70-20-10\n",
    "\n",
    "\n",
    "Hints: \n",
    "\n",
    "* Usar Indexing y slicing\n",
    "* Usar np.random.[...]"
   ]
  },
  {
   "cell_type": "code",
   "execution_count": 14,
   "metadata": {},
   "outputs": [],
   "source": [
    "#librerias\n",
    "import numpy as np\n",
    "import pandas as pd\n",
    "# Crear datasets\n",
    "import matplotlib.pyplot as plt\n",
    "import seaborn as sns\n",
    "import pandas as pd\n",
    "# Entrenamiento de modelos de prueba\n",
    "from sklearn.linear_model import LinearRegression\n",
    "\n",
    "# Evaluación de modelos de prueba\n",
    "from sklearn.metrics import mean_squared_error\n",
    "\n",
    "# Crear datasets\n",
    "from sklearn.datasets import make_regression"
   ]
  },
  {
   "cell_type": "code",
   "execution_count": 15,
   "metadata": {},
   "outputs": [
    {
     "data": {
      "text/plain": [
       "(1000, 2)"
      ]
     },
     "execution_count": 15,
     "metadata": {},
     "output_type": "execute_result"
    }
   ],
   "source": [
    "#Creamos el dataset de prueba \n",
    "# make_regression del modulo sklearn.dataset : genera un conjunto de datos sinteticos para analisis de regresion\n",
    "\n",
    "x,y = make_regression(n_samples = 1000, # numero de muestras en el conjunto de datos\n",
    "                       n_features = 1, # numero de carascteristicas en el conjunto\n",
    "                       noise = 2, #desviacion estandar del ruido gaussiano añadido a las muestras\n",
    "                       n_informative = 1, # número de características informativas en el conjunto de datos \n",
    "                       random_state = 42) #El estado aleatorio para la generación de números aleatorios y la reproducibilidad de los resultados\n",
    "\n",
    "new_data = np.append(x,y.reshape(-1,1),axis=1)\n",
    "# devuelve una tupla \n",
    "new_data.shape"
   ]
  },
  {
   "cell_type": "code",
   "execution_count": 16,
   "metadata": {},
   "outputs": [
    {
     "data": {
      "text/html": [
       "<div>\n",
       "<style scoped>\n",
       "    .dataframe tbody tr th:only-of-type {\n",
       "        vertical-align: middle;\n",
       "    }\n",
       "\n",
       "    .dataframe tbody tr th {\n",
       "        vertical-align: top;\n",
       "    }\n",
       "\n",
       "    .dataframe thead th {\n",
       "        text-align: right;\n",
       "    }\n",
       "</style>\n",
       "<table border=\"1\" class=\"dataframe\">\n",
       "  <thead>\n",
       "    <tr style=\"text-align: right;\">\n",
       "      <th></th>\n",
       "      <th>X</th>\n",
       "      <th>Y</th>\n",
       "    </tr>\n",
       "  </thead>\n",
       "  <tbody>\n",
       "    <tr>\n",
       "      <th>0</th>\n",
       "      <td>-1.758739</td>\n",
       "      <td>-30.118736</td>\n",
       "    </tr>\n",
       "    <tr>\n",
       "      <th>1</th>\n",
       "      <td>1.031845</td>\n",
       "      <td>14.526197</td>\n",
       "    </tr>\n",
       "    <tr>\n",
       "      <th>2</th>\n",
       "      <td>-0.487606</td>\n",
       "      <td>-10.119305</td>\n",
       "    </tr>\n",
       "    <tr>\n",
       "      <th>3</th>\n",
       "      <td>0.186454</td>\n",
       "      <td>1.700188</td>\n",
       "    </tr>\n",
       "    <tr>\n",
       "      <th>4</th>\n",
       "      <td>0.725767</td>\n",
       "      <td>12.345314</td>\n",
       "    </tr>\n",
       "    <tr>\n",
       "      <th>...</th>\n",
       "      <td>...</td>\n",
       "      <td>...</td>\n",
       "    </tr>\n",
       "    <tr>\n",
       "      <th>995</th>\n",
       "      <td>-1.918771</td>\n",
       "      <td>-30.210145</td>\n",
       "    </tr>\n",
       "    <tr>\n",
       "      <th>996</th>\n",
       "      <td>0.482472</td>\n",
       "      <td>9.182647</td>\n",
       "    </tr>\n",
       "    <tr>\n",
       "      <th>997</th>\n",
       "      <td>0.241962</td>\n",
       "      <td>4.855134</td>\n",
       "    </tr>\n",
       "    <tr>\n",
       "      <th>998</th>\n",
       "      <td>1.366874</td>\n",
       "      <td>25.785771</td>\n",
       "    </tr>\n",
       "    <tr>\n",
       "      <th>999</th>\n",
       "      <td>-1.059214</td>\n",
       "      <td>-16.584161</td>\n",
       "    </tr>\n",
       "  </tbody>\n",
       "</table>\n",
       "<p>1000 rows × 2 columns</p>\n",
       "</div>"
      ],
      "text/plain": [
       "            X          Y\n",
       "0   -1.758739 -30.118736\n",
       "1    1.031845  14.526197\n",
       "2   -0.487606 -10.119305\n",
       "3    0.186454   1.700188\n",
       "4    0.725767  12.345314\n",
       "..        ...        ...\n",
       "995 -1.918771 -30.210145\n",
       "996  0.482472   9.182647\n",
       "997  0.241962   4.855134\n",
       "998  1.366874  25.785771\n",
       "999 -1.059214 -16.584161\n",
       "\n",
       "[1000 rows x 2 columns]"
      ]
     },
     "execution_count": 16,
     "metadata": {},
     "output_type": "execute_result"
    }
   ],
   "source": [
    "#Paso los datos a un dataframe\n",
    "data = pd.DataFrame(new_data, columns=['X', 'Y']) #Y: target\n",
    "data"
   ]
  },
  {
   "cell_type": "code",
   "execution_count": 17,
   "metadata": {},
   "outputs": [
    {
     "data": {
      "image/png": "[encoded data removed]",
      "text/plain": [
       "<Figure size 1584x720 with 3 Axes>"
      ]
     },
     "metadata": {
      "needs_background": "light"
     },
     "output_type": "display_data"
    }
   ],
   "source": [
    "#grafico\n",
    "fig,axes = plt.subplots(3,figsize=(22,10))\n",
    "axes[0].scatter(data['X'],data['Y'])\n",
    "sns.histplot(data['Y'], ax=axes[1]); #Muestra con que frecuencia aparecen los valores Y\n",
    "sns.histplot(data['X'], ax=axes[2]); #Muestra con que frecuencia aparecen los valores X\n"
   ]
  },
  {
   "cell_type": "code",
   "execution_count": 18,
   "metadata": {},
   "outputs": [],
   "source": [
    "#Recibo dataframe los porcentanje de train , validation \n",
    "def split(data,p_train,p_validation):\n",
    "   # feature\n",
    "   X= data['X']\n",
    "   Y= data['Y']\n",
    "   n_muestras= X.shape[0]\n",
    "\n",
    "   #Mezclara los indices aleatoriamente\n",
    "   permuted_idxs= np.random.permutation(n_muestras)\n",
    "   #permuted_idxs \n",
    "\n",
    "   #Determinar los tamaños de cada conjunto\n",
    "   train_size = int(p_train * n_muestras)\n",
    "   valid_size = int(p_validation * n_muestras)\n",
    "   test_size = n_muestras - train_size - valid_size\n",
    "\n",
    "   # Dividir los índices en conjuntos de entrenamiento, validación y prueba\n",
    "   train_idxs = permuted_idxs[:train_size]\n",
    "   valid_idxs = permuted_idxs[train_size:train_size+valid_size]\n",
    "   test_idxs = permuted_idxs[-test_size:]\n",
    "   \n",
    "   # Extraer las filas correspondientes a cada conjunto\n",
    "   X_train = X[train_idxs]\n",
    "   Y_train = y[train_idxs]\n",
    "   X_valid = X[valid_idxs]\n",
    "   Y_valid = y[valid_idxs]\n",
    "   X_test = X[test_idxs]\n",
    "   Y_test = y[test_idxs]\n",
    "\n",
    "   return X_train, X_valid, X_test, Y_train, Y_valid, Y_test\n",
    "\n",
    "[X_train, X_valid, X_test, Y_train, Y_valid, Y_test]=split(data, 0.7,0.2)\n",
    "\n",
    "#print(X_train ,Y_train)\n",
    "\n",
    "#print(X_valid,Y_valid)\n",
    "\n",
    "#print(X_test,Y_test)\n",
    "\n",
    "  \n",
    "  "
   ]
  }
 ],
 "metadata": {
  "kernelspec": {
   "display_name": "base",
   "language": "python",
   "name": "python3"
  },
  "language_info": {
   "codemirror_mode": {
    "name": "ipython",
    "version": 3
   },
   "file_extension": ".py",
   "mimetype": "text/x-python",
   "name": "python",
   "nbconvert_exporter": "python",
   "pygments_lexer": "ipython3",
   "version": "3.9.7"
  },
  "orig_nbformat": 4
 },
 "nbformat": 4,
 "nbformat_minor": 2
}
