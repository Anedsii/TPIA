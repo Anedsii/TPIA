{
 "cells": [
  {
   "attachments": {},
   "cell_type": "markdown",
   "metadata": {},
   "source": [
    "# Trabajo práctico integrador\n",
    "\n",
    "**Nombre**: Angela Siles"
   ]
  },
  {
   "cell_type": "markdown",
   "metadata": {},
   "source": [
    "## Primera Parte (Clase 1 y 2)"
   ]
  },
  {
   "cell_type": "code",
   "execution_count": 1,
   "metadata": {},
   "outputs": [],
   "source": [
    "import numpy as np\n",
    "import matplotlib.pyplot as plt"
   ]
  },
  {
   "cell_type": "markdown",
   "metadata": {},
   "source": [
    "### Primer ejercicio\n",
    "\n",
    "Dada una matriz en formato *numpy array*, donde cada fila de la matriz representa un vector matemático, se requiere computar las normas $l_0$, $l_1$, $l_2$, $l_{\\infty}$, según la siguientes definiciones:\n",
    "\n",
    "\\begin{equation}\n",
    "    ||\\mathbf{x}||^{p} = \\bigg(\\sum_{j=1}^{n}{|x_i|^p}\\bigg)^{\\frac{1}{p}}\n",
    "\\end{equation}\n",
    "\n",
    "con los casos especiales para $p=0$ y $p=\\infty$ siendo:\n",
    "\n",
    "\\begin{equation}\n",
    "    \\begin{array}{rcl}\n",
    "        ||\\mathbf{x}||_0 & = & \\bigg(\\sum_{j=1 \\wedge x_j != 0}{|x_i|}\\bigg)\\\\\n",
    "        ||\\mathbf{x}||_{\\infty} & = & \\max_{i}{|x_i|}\\\\\n",
    "    \\end{array}\n",
    "\\end{equation}"
   ]
  },
  {
   "cell_type": "code",
   "execution_count": 2,
   "metadata": {},
   "outputs": [
    {
     "name": "stdout",
     "output_type": "stream",
     "text": [
      "Matriz:\n",
      "[[1 2 3]\n",
      " [4 5 6]\n",
      " [0 0 0]]\n",
      "Vector 1\n",
      "Norma l0: 3\n",
      "Norma l1: 6\n",
      "Norma l2: 3.7416573867739413\n",
      "Norma linf: 3\n",
      "Vector 2\n",
      "Norma l0: 3\n",
      "Norma l1: 15\n",
      "Norma l2: 8.774964387392123\n",
      "Norma linf: 6\n",
      "Vector 3\n",
      "Norma l0: 0\n",
      "Norma l1: 0\n",
      "Norma l2: 0.0\n",
      "Norma linf: 0\n"
     ]
    }
   ],
   "source": [
    "import numpy as np\n",
    "\n",
    "def l0_norm(x):\n",
    "    return np.count_nonzero(x)\n",
    "\n",
    "def l1_norm(x):\n",
    "    return np.sum(np.abs(x))\n",
    "\n",
    "def l2_norm(x):\n",
    "    return np.linalg.norm(x)\n",
    "\n",
    "def linf_norm(x):\n",
    "    return np.max(np.abs(x))\n",
    "\n",
    "# Ejemplo de uso\n",
    "matriz = np.array([[1, 2, 3], [4, 5, 6], [0, 0, 0]])\n",
    "print(\"Matriz:\")\n",
    "print(matriz)\n",
    "\n",
    "for i in range(matriz.shape[0]):\n",
    "    print(\"Vector\", i+1)\n",
    "    print(\"Norma l0:\", l0_norm(matriz[i]))\n",
    "    print(\"Norma l1:\", l1_norm(matriz[i]))\n",
    "    print(\"Norma l2:\", l2_norm(matriz[i]))\n",
    "    print(\"Norma linf:\", linf_norm(matriz[i]))"
   ]
  },
  {
   "cell_type": "markdown",
   "metadata": {},
   "source": [
    "### Segundo Ejercicio\n",
    "\n",
    "En clasificación contamos con dos arreglos, la “verdad” y la “predicción”. Cada elemento de los arreglos pueden tomar dos valores, “True” (representado por 1) y “False” (representado por 0). Entonces podemos definir 4 variables:\n",
    "\n",
    "* True Positive (TP): El valor verdadero es 1 y el valor predicho es 1\n",
    "* True Negative (TN): El valor verdadero es 0 y el valor predicho es 0\n",
    "* False Positive (FP): El valor verdadero es 0 y el valor predicho es 1\n",
    "* False Negative (FN): El valor verdadero es 1 y el valor predicho es 0\n",
    "\n",
    "A partir de esto definimos:\n",
    "\n",
    "* Precision = TP / (TP + FP)\n",
    "* Recall = TP / (TP + FN)\n",
    "* Accuracy = (TP + TN) / (TP + TN + FP + FN)\n",
    " \n",
    "Calcular las 3 métricas con Numpy y operaciones vectorizadas."
   ]
  },
  {
   "cell_type": "code",
   "execution_count": 3,
   "metadata": {},
   "outputs": [],
   "source": [
    "#lib\n",
    "import numpy as np\n"
   ]
  },
  {
   "cell_type": "code",
   "execution_count": 4,
   "metadata": {},
   "outputs": [],
   "source": [
    "# Definimos los arreglos de verdad y predicción\n",
    "\n",
    "truth = np.array([1,1,0,1,1,1,0,0,0,1])\n",
    "prediction = np.array([1,1,1,1,0,0,1,1,0,0])"
   ]
  },
  {
   "cell_type": "code",
   "execution_count": 5,
   "metadata": {},
   "outputs": [],
   "source": [
    "\n",
    "# Calculamos los valores de TP, TN, FP y FN\n",
    "TP = np.sum(np.logical_and(truth == 1, prediction == 1))\n",
    "TN = np.sum(np.logical_and(truth == 0, prediction == 0))\n",
    "FP = np.sum(np.logical_and(truth == 0, prediction == 1))\n",
    "FN = np.sum(np.logical_and(truth == 1, prediction == 0))\n",
    "\n",
    "# Calculamos las métricas de precision, recall y accuracy\n",
    "precision = TP / (TP + FP)\n",
    "recall = TP / (TP + FN)\n",
    "accuracy = (TP + TN) / (TP + TN + FP + FN)"
   ]
  },
  {
   "cell_type": "code",
   "execution_count": 6,
   "metadata": {},
   "outputs": [],
   "source": [
    "\n",
    "# Calculamos los valores de TP, TN, FP y FN\n",
    "TP = np.sum(np.logical_and(truth == 1, prediction == 1))\n",
    "TN = np.sum(np.logical_and(truth == 0, prediction == 0))\n",
    "FP = np.sum(np.logical_and(truth == 0, prediction == 1))\n",
    "FN = np.sum(np.logical_and(truth == 1, prediction == 0))\n",
    "\n",
    "# Calculamos las métricas de precision, recall y accuracy\n",
    "precision = TP / (TP + FP)\n",
    "recall = TP / (TP + FN)\n",
    "accuracy = (TP + TN) / (TP + TN + FP + FN)"
   ]
  },
  {
   "cell_type": "code",
   "execution_count": 7,
   "metadata": {},
   "outputs": [
    {
     "name": "stdout",
     "output_type": "stream",
     "text": [
      "Precision: 0.5\n",
      "Recall: 0.5\n",
      "Accuracy: 0.4\n"
     ]
    }
   ],
   "source": [
    "# Imprimimos los resultados de las tres metricas\n",
    "print(\"Precision:\", precision)\n",
    "print(\"Recall:\", recall)\n",
    "print(\"Accuracy:\", accuracy)"
   ]
  }
 ],
 "metadata": {
  "kernelspec": {
   "display_name": "base",
   "language": "python",
   "name": "python3"
  },
  "language_info": {
   "codemirror_mode": {
    "name": "ipython",
    "version": 3
   },
   "file_extension": ".py",
   "mimetype": "text/x-python",
   "name": "python",
   "nbconvert_exporter": "python",
   "pygments_lexer": "ipython3",
   "version": "3.9.7"
  },
  "orig_nbformat": 4
 },
 "nbformat": 4,
 "nbformat_minor": 2
}
